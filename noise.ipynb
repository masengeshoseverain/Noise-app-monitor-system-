{
  "cells": [
    {
      "cell_type": "markdown",
      "metadata": {
        "id": "view-in-github",
        "colab_type": "text"
      },
      "source": [
        "<a href=\"https://colab.research.google.com/github/masengeshoseverain/Noise-app-monitor-system-/blob/IT/noise.ipynb\" target=\"_parent\"><img src=\"https://colab.research.google.com/assets/colab-badge.svg\" alt=\"Open In Colab\"/></a>"
      ]
    },
    {
      "cell_type": "markdown",
      "source": [
        "Imports"
      ],
      "metadata": {
        "id": "QlzvXYy7pXLJ"
      }
    },
    {
      "cell_type": "code",
      "source": [
        "import pandas as pd\n",
        "import numpy as np\n",
        "import datetime\n",
        "\n",
        "# Define the number of samples for training and testing datasets\n",
        "n_train = 10000\n",
        "n_test = 2000\n",
        "\n",
        "# Define additional fields\n",
        "location_types = ['Indoor', 'Outdoor']\n",
        "genders = ['Male', 'Female', 'Other']\n",
        "hearing_sensitivity = ['Normal', 'Mild', 'Moderate', 'Severe']\n",
        "health_issues = ['Healthy', 'Diabetes', 'Hypertension', 'Heart Disease', 'Other']\n",
        "environments = ['Residential', 'Workplace', 'Recreational', 'Traffic', 'Industrial']\n",
        "\n",
        "# Generate random data\n",
        "np.random.seed(42)  # For reproducibility\n",
        "\n",
        "def generate_data(num_samples):\n",
        "    timestamps = [datetime.datetime.now() - datetime.timedelta(minutes=15*i) for i in range(num_samples)]\n",
        "    user_ids = np.random.randint(1000, 9999, num_samples)\n",
        "    noise_levels = np.random.uniform(0, 100, num_samples)  # Mean = 65dB, Std = 10dB\n",
        "    durations = np.random.normal(60, 20, num_samples)  # Mean = 60 minutes, Std = 20 minutes\n",
        "    ages = np.random.randint(18, 65, num_samples)\n",
        "    data = {\n",
        "        'Timestamp': [ts.strftime('%Y-%m-%d %H:%M:%S') for ts in timestamps],\n",
        "        'User_ID': user_ids,\n",
        "        'Location_Type': np.random.choice(location_types, num_samples),\n",
        "        'Environment': np.random.choice(environments, num_samples),\n",
        "        'Noise_Level_dB': noise_levels,\n",
        "        'Duration_Minutes': durations,\n",
        "        'Age': ages,\n",
        "        'Gender': np.random.choice(genders, num_samples),\n",
        "        'Hearing_Protection_Used': np.random.choice(['Yes', 'No'], num_samples),\n",
        "        'Hearing_Sensitivity': np.random.choice(hearing_sensitivity, num_samples),\n",
        "        'Health_Issues': np.random.choice(health_issues, num_samples)\n",
        "    }\n",
        "    # Simulate hearing damage risk\n",
        "    data['Hearing_Damage_Risk'] = (data['Noise_Level_dB'] > 90) | (data['Duration_Minutes'] > 480)  # 8 hours threshold\n",
        "    data['Hearing_Damage_Risk'] = data['Hearing_Damage_Risk'].astype(int)  # Convert to binary\n",
        "    return pd.DataFrame(data)\n",
        "\n",
        "# Generate training and testing datasets\n",
        "train_data = generate_data(n_train)\n",
        "test_data = generate_data(n_test)\n",
        "\n",
        "# Save to CSV files\n",
        "train_data.to_csv(\"train.csv\", index=False)\n",
        "test_data.to_csv(\"test.csv\", index=False)\n",
        "\n",
        "print(\"Data generation complete. Files saved as 'simulated_train_data_extended.csv' and 'simulated_test_data_extended.csv'.\")\n"
      ],
      "metadata": {
        "colab": {
          "base_uri": "https://localhost:8080/"
        },
        "id": "zQtyp2AfSmHl",
        "outputId": "2fea6da7-8f81-4fa4-f4e4-8658a50afa7c"
      },
      "execution_count": null,
      "outputs": [
        {
          "output_type": "stream",
          "name": "stdout",
          "text": [
            "Data generation complete. Files saved as 'simulated_train_data_extended.csv' and 'simulated_test_data_extended.csv'.\n"
          ]
        }
      ]
    },
    {
      "cell_type": "code",
      "source": [
        "!pip install joblib"
      ],
      "metadata": {
        "colab": {
          "base_uri": "https://localhost:8080/"
        },
        "id": "DVFwDDgRpiEj",
        "outputId": "632c9030-5de7-4026-cbb5-5181768ceff8"
      },
      "execution_count": null,
      "outputs": [
        {
          "output_type": "stream",
          "name": "stdout",
          "text": [
            "Requirement already satisfied: joblib in /usr/local/lib/python3.10/dist-packages (1.4.2)\n"
          ]
        }
      ]
    },
    {
      "cell_type": "code",
      "source": [
        "import pandas as pd\n",
        "from sklearn.model_selection import train_test_split\n",
        "from sklearn.preprocessing import StandardScaler, OneHotEncoder\n",
        "from sklearn.compose import ColumnTransformer\n",
        "from sklearn.pipeline import Pipeline\n",
        "import tensorflow as tf\n",
        "from tensorflow.keras.models import Sequential\n",
        "from tensorflow.keras.layers import Dense, Dropout\n",
        "\n",
        "# Load the dataset\n",
        "train = pd.read_csv('train.csv')\n",
        "test = pd.read_csv('test.csv')\n",
        "\n",
        "# Drop unnecessary columns\n",
        "train = train.drop(['Timestamp', 'User_ID'], axis=1)\n",
        "test = test.drop(['Timestamp', 'User_ID'], axis=1)\n",
        "\n",
        "data = pd.concat([train, test])\n",
        "\n",
        "\n",
        "# Handle missing values (if any)\n",
        "data = data.dropna()\n",
        "\n",
        "# Define categorical and numerical columns\n",
        "categorical_columns = ['Location_Type', 'Environment', 'Gender', 'Hearing_Protection_Used', 'Hearing_Sensitivity', 'Health_Issues']\n",
        "numerical_columns = ['Noise_Level_dB', 'Duration_Minutes', 'Age']\n",
        "\n",
        "# One-hot encode categorical variables and scale numerical features\n",
        "preprocessor = ColumnTransformer(\n",
        "    transformers=[\n",
        "        ('num', StandardScaler(), numerical_columns),\n",
        "        ('cat', OneHotEncoder(), categorical_columns)\n",
        "    ])\n",
        "\n",
        "# Split data into features and target\n",
        "X = data.drop('Hearing_Damage_Risk', axis=1)\n",
        "y = data['Hearing_Damage_Risk']\n",
        "\n",
        "# Split into training and testing sets\n",
        "X_train, X_test, y_train, y_test = train_test_split(X, y, test_size=0.2, random_state=42)\n",
        "\n",
        "# Apply preprocessing\n",
        "X_train = preprocessor.fit_transform(X_train)\n",
        "X_test = preprocessor.transform(X_test)\n",
        "\n",
        "# Convert sparse matrices to dense arrays\n",
        "# X_train = X_train.toarray()\n",
        "# X_test = X_test.toarray()\n",
        "\n",
        "# Define the model\n",
        "model = Sequential([\n",
        "    Dense(64, activation='relu', input_shape=(X_train.shape[1],)),\n",
        "    Dropout(0.5),\n",
        "    Dense(32, activation='relu'),\n",
        "    Dense(1, activation='sigmoid')\n",
        "])\n",
        "\n",
        "# Compile the model\n",
        "model.compile(optimizer='adam', loss='binary_crossentropy', metrics=['accuracy'])\n",
        "\n",
        "# Train the model\n",
        "model.fit(X_train, y_train, epochs=50, batch_size=32, validation_data=(X_test, y_test))\n",
        "\n",
        "# Evaluate the model (optional)\n",
        "loss, accuracy = model.evaluate(X_test, y_test)\n",
        "print(f'Accuracy: {accuracy}')\n"
      ],
      "metadata": {
        "id": "68PMJvQBYuUD",
        "colab": {
          "base_uri": "https://localhost:8080/"
        },
        "outputId": "d062f247-703c-4d2c-a1ed-9cd834cfc781"
      },
      "execution_count": null,
      "outputs": [
        {
          "output_type": "stream",
          "name": "stdout",
          "text": [
            "Epoch 1/50\n",
            "300/300 [==============================] - 2s 3ms/step - loss: 0.2558 - accuracy: 0.8854 - val_loss: 0.1221 - val_accuracy: 0.9413\n",
            "Epoch 2/50\n",
            "300/300 [==============================] - 1s 4ms/step - loss: 0.1230 - accuracy: 0.9427 - val_loss: 0.0795 - val_accuracy: 0.9767\n",
            "Epoch 3/50\n",
            "300/300 [==============================] - 2s 6ms/step - loss: 0.0936 - accuracy: 0.9599 - val_loss: 0.0629 - val_accuracy: 0.9775\n",
            "Epoch 4/50\n",
            "300/300 [==============================] - 1s 4ms/step - loss: 0.0737 - accuracy: 0.9701 - val_loss: 0.0490 - val_accuracy: 0.9842\n",
            "Epoch 5/50\n",
            "300/300 [==============================] - 1s 2ms/step - loss: 0.0585 - accuracy: 0.9740 - val_loss: 0.0392 - val_accuracy: 0.9875\n",
            "Epoch 6/50\n",
            "300/300 [==============================] - 1s 2ms/step - loss: 0.0483 - accuracy: 0.9794 - val_loss: 0.0348 - val_accuracy: 0.9896\n",
            "Epoch 7/50\n",
            "300/300 [==============================] - 1s 2ms/step - loss: 0.0394 - accuracy: 0.9833 - val_loss: 0.0320 - val_accuracy: 0.9871\n",
            "Epoch 8/50\n",
            "300/300 [==============================] - 1s 4ms/step - loss: 0.0334 - accuracy: 0.9866 - val_loss: 0.0292 - val_accuracy: 0.9892\n",
            "Epoch 9/50\n",
            "300/300 [==============================] - 1s 4ms/step - loss: 0.0300 - accuracy: 0.9873 - val_loss: 0.0277 - val_accuracy: 0.9883\n",
            "Epoch 10/50\n",
            "300/300 [==============================] - 1s 4ms/step - loss: 0.0274 - accuracy: 0.9889 - val_loss: 0.0206 - val_accuracy: 0.9942\n",
            "Epoch 11/50\n",
            "300/300 [==============================] - 1s 2ms/step - loss: 0.0237 - accuracy: 0.9901 - val_loss: 0.0284 - val_accuracy: 0.9867\n",
            "Epoch 12/50\n",
            "300/300 [==============================] - 1s 2ms/step - loss: 0.0241 - accuracy: 0.9905 - val_loss: 0.0192 - val_accuracy: 0.9937\n",
            "Epoch 13/50\n",
            "300/300 [==============================] - 1s 3ms/step - loss: 0.0213 - accuracy: 0.9910 - val_loss: 0.0228 - val_accuracy: 0.9904\n",
            "Epoch 14/50\n",
            "300/300 [==============================] - 1s 2ms/step - loss: 0.0191 - accuracy: 0.9933 - val_loss: 0.0280 - val_accuracy: 0.9879\n",
            "Epoch 15/50\n",
            "300/300 [==============================] - 1s 2ms/step - loss: 0.0209 - accuracy: 0.9914 - val_loss: 0.0189 - val_accuracy: 0.9925\n",
            "Epoch 16/50\n",
            "300/300 [==============================] - 1s 2ms/step - loss: 0.0208 - accuracy: 0.9914 - val_loss: 0.0237 - val_accuracy: 0.9883\n",
            "Epoch 17/50\n",
            "300/300 [==============================] - 1s 2ms/step - loss: 0.0214 - accuracy: 0.9907 - val_loss: 0.0178 - val_accuracy: 0.9925\n",
            "Epoch 18/50\n",
            "300/300 [==============================] - 1s 2ms/step - loss: 0.0173 - accuracy: 0.9928 - val_loss: 0.0164 - val_accuracy: 0.9937\n",
            "Epoch 19/50\n",
            "300/300 [==============================] - 1s 2ms/step - loss: 0.0177 - accuracy: 0.9929 - val_loss: 0.0152 - val_accuracy: 0.9937\n",
            "Epoch 20/50\n",
            "300/300 [==============================] - 1s 2ms/step - loss: 0.0183 - accuracy: 0.9916 - val_loss: 0.0163 - val_accuracy: 0.9929\n",
            "Epoch 21/50\n",
            "300/300 [==============================] - 1s 2ms/step - loss: 0.0152 - accuracy: 0.9935 - val_loss: 0.0155 - val_accuracy: 0.9946\n",
            "Epoch 22/50\n",
            "300/300 [==============================] - 1s 2ms/step - loss: 0.0155 - accuracy: 0.9946 - val_loss: 0.0337 - val_accuracy: 0.9842\n",
            "Epoch 23/50\n",
            "300/300 [==============================] - 1s 2ms/step - loss: 0.0177 - accuracy: 0.9927 - val_loss: 0.0229 - val_accuracy: 0.9900\n",
            "Epoch 24/50\n",
            "300/300 [==============================] - 1s 3ms/step - loss: 0.0172 - accuracy: 0.9933 - val_loss: 0.0159 - val_accuracy: 0.9929\n",
            "Epoch 25/50\n",
            "300/300 [==============================] - 1s 3ms/step - loss: 0.0153 - accuracy: 0.9935 - val_loss: 0.0202 - val_accuracy: 0.9904\n",
            "Epoch 26/50\n",
            "300/300 [==============================] - 1s 4ms/step - loss: 0.0187 - accuracy: 0.9917 - val_loss: 0.0179 - val_accuracy: 0.9925\n",
            "Epoch 27/50\n",
            "300/300 [==============================] - 1s 3ms/step - loss: 0.0180 - accuracy: 0.9920 - val_loss: 0.0213 - val_accuracy: 0.9892\n",
            "Epoch 28/50\n",
            "300/300 [==============================] - 1s 2ms/step - loss: 0.0182 - accuracy: 0.9933 - val_loss: 0.0168 - val_accuracy: 0.9925\n",
            "Epoch 29/50\n",
            "300/300 [==============================] - 1s 3ms/step - loss: 0.0176 - accuracy: 0.9937 - val_loss: 0.0186 - val_accuracy: 0.9921\n",
            "Epoch 30/50\n",
            "300/300 [==============================] - 1s 2ms/step - loss: 0.0152 - accuracy: 0.9939 - val_loss: 0.0313 - val_accuracy: 0.9875\n",
            "Epoch 31/50\n",
            "300/300 [==============================] - 1s 2ms/step - loss: 0.0145 - accuracy: 0.9947 - val_loss: 0.0158 - val_accuracy: 0.9925\n",
            "Epoch 32/50\n",
            "300/300 [==============================] - 1s 2ms/step - loss: 0.0156 - accuracy: 0.9932 - val_loss: 0.0221 - val_accuracy: 0.9892\n",
            "Epoch 33/50\n",
            "300/300 [==============================] - 1s 3ms/step - loss: 0.0147 - accuracy: 0.9936 - val_loss: 0.0146 - val_accuracy: 0.9933\n",
            "Epoch 34/50\n",
            "300/300 [==============================] - 1s 2ms/step - loss: 0.0155 - accuracy: 0.9934 - val_loss: 0.0210 - val_accuracy: 0.9908\n",
            "Epoch 35/50\n",
            "300/300 [==============================] - 1s 2ms/step - loss: 0.0141 - accuracy: 0.9947 - val_loss: 0.0129 - val_accuracy: 0.9946\n",
            "Epoch 36/50\n",
            "300/300 [==============================] - 1s 2ms/step - loss: 0.0164 - accuracy: 0.9929 - val_loss: 0.0163 - val_accuracy: 0.9937\n",
            "Epoch 37/50\n",
            "300/300 [==============================] - 1s 2ms/step - loss: 0.0146 - accuracy: 0.9945 - val_loss: 0.0184 - val_accuracy: 0.9921\n",
            "Epoch 38/50\n",
            "300/300 [==============================] - 1s 2ms/step - loss: 0.0153 - accuracy: 0.9937 - val_loss: 0.0180 - val_accuracy: 0.9937\n",
            "Epoch 39/50\n",
            "300/300 [==============================] - 1s 2ms/step - loss: 0.0170 - accuracy: 0.9932 - val_loss: 0.0317 - val_accuracy: 0.9867\n",
            "Epoch 40/50\n",
            "300/300 [==============================] - 1s 2ms/step - loss: 0.0138 - accuracy: 0.9949 - val_loss: 0.0161 - val_accuracy: 0.9912\n",
            "Epoch 41/50\n",
            "300/300 [==============================] - 1s 4ms/step - loss: 0.0140 - accuracy: 0.9941 - val_loss: 0.0221 - val_accuracy: 0.9917\n",
            "Epoch 42/50\n",
            "300/300 [==============================] - 1s 3ms/step - loss: 0.0153 - accuracy: 0.9948 - val_loss: 0.0169 - val_accuracy: 0.9937\n",
            "Epoch 43/50\n",
            "300/300 [==============================] - 1s 3ms/step - loss: 0.0132 - accuracy: 0.9953 - val_loss: 0.0180 - val_accuracy: 0.9921\n",
            "Epoch 44/50\n",
            "300/300 [==============================] - 1s 4ms/step - loss: 0.0166 - accuracy: 0.9935 - val_loss: 0.0223 - val_accuracy: 0.9912\n",
            "Epoch 45/50\n",
            "300/300 [==============================] - 1s 2ms/step - loss: 0.0154 - accuracy: 0.9940 - val_loss: 0.0206 - val_accuracy: 0.9904\n",
            "Epoch 46/50\n",
            "300/300 [==============================] - 1s 2ms/step - loss: 0.0139 - accuracy: 0.9943 - val_loss: 0.0198 - val_accuracy: 0.9904\n",
            "Epoch 47/50\n",
            "300/300 [==============================] - 1s 3ms/step - loss: 0.0140 - accuracy: 0.9943 - val_loss: 0.0217 - val_accuracy: 0.9904\n",
            "Epoch 48/50\n",
            "300/300 [==============================] - 1s 3ms/step - loss: 0.0146 - accuracy: 0.9941 - val_loss: 0.0178 - val_accuracy: 0.9929\n",
            "Epoch 49/50\n",
            "300/300 [==============================] - 1s 2ms/step - loss: 0.0155 - accuracy: 0.9932 - val_loss: 0.0196 - val_accuracy: 0.9887\n",
            "Epoch 50/50\n",
            "300/300 [==============================] - 1s 2ms/step - loss: 0.0158 - accuracy: 0.9931 - val_loss: 0.0184 - val_accuracy: 0.9925\n",
            "75/75 [==============================] - 0s 1ms/step - loss: 0.0184 - accuracy: 0.9925\n",
            "Accuracy: 0.9925000071525574\n"
          ]
        }
      ]
    },
    {
      "source": [
        "\n",
        "import tf2onnx\n",
        "\n",
        "# Convert the Keras model to ONNX\n",
        "onnx_model, _ = tf2onnx.convert.from_keras(model, opset=13, output_path='nihl.onnx')\n",
        "output_names = [n.name for n in onnx_model.graph.output]\n",
        "print(output_names)\n",
        "\n",
        "# Save the ONNX model to a file\n",
        "output_path = 'nihl.onnx'\n",
        "\n",
        "# with open(output_path, \"wb\") as f:  # Use `open` to save the model\n",
        "#     f.write(onnx_model.SerializeToString())  # Serialize and write to file"
      ],
      "cell_type": "code",
      "metadata": {
        "colab": {
          "base_uri": "https://localhost:8080/"
        },
        "id": "AgRXyGxEwOey",
        "outputId": "f769e760-e982-45fb-9525-6bb8b799eab5"
      },
      "execution_count": null,
      "outputs": [
        {
          "output_type": "stream",
          "name": "stdout",
          "text": [
            "['dense_5']\n"
          ]
        }
      ]
    },
    {
      "cell_type": "code",
      "source": [
        "\n",
        "\n",
        "import onnxruntime as rt\n",
        "\n",
        "# Load the ONNX model\n",
        "sess = rt.InferenceSession(\"nihl.onnx\")\n",
        "\n",
        "# Get the input and output names\n",
        "input_name = sess.get_inputs()[0].name\n",
        "output_name = sess.get_outputs()[0].name\n",
        "sample_data = {\n",
        "    'Location_Type': 'Indoor',\n",
        "    'Environment': 'Traffic',\n",
        "    'Age': '30',\n",
        "    'Gender': 'Male',\n",
        "    'Hearing_Protection_Used': 'No',\n",
        "    'Hearing_Sensitivity': 'Severe',\n",
        "    'Health_Issues': 'Diabetes',\n",
        "    'Noise_Level_dB': 76,\n",
        "    'Duration_Minutes': 6\n",
        "}\n",
        "\n",
        "# Convert the sample data to a DataFrame\n",
        "sample_df = pd.DataFrame([sample_data])\n",
        "\n",
        "# Example input data (replace with your actual data)\n",
        "input_data = X_test[:1]  # Take the first sample from the test set\n",
        "\n",
        "# Run inference\n",
        "result = sess.run([output_name], {input_name: sample_df})\n",
        "\n",
        "# Print the prediction\n",
        "print(result)\n"
      ],
      "metadata": {
        "colab": {
          "base_uri": "https://localhost:8080/",
          "height": 400
        },
        "id": "0ipTmVjgMGrp",
        "outputId": "c4490e36-46be-4bd0-a15d-ce85adb3f45c"
      },
      "execution_count": null,
      "outputs": [
        {
          "output_type": "error",
          "ename": "RuntimeError",
          "evalue": "Input must be a list of dictionaries or a single numpy array for input 'dense_3_input'.",
          "traceback": [
            "\u001b[0;31m---------------------------------------------------------------------------\u001b[0m",
            "\u001b[0;31mRuntimeError\u001b[0m                              Traceback (most recent call last)",
            "\u001b[0;32m<ipython-input-29-2cdeb53b5a69>\u001b[0m in \u001b[0;36m<cell line: 28>\u001b[0;34m()\u001b[0m\n\u001b[1;32m     26\u001b[0m \u001b[0;34m\u001b[0m\u001b[0m\n\u001b[1;32m     27\u001b[0m \u001b[0;31m# Run inference\u001b[0m\u001b[0;34m\u001b[0m\u001b[0;34m\u001b[0m\u001b[0m\n\u001b[0;32m---> 28\u001b[0;31m \u001b[0mresult\u001b[0m \u001b[0;34m=\u001b[0m \u001b[0msess\u001b[0m\u001b[0;34m.\u001b[0m\u001b[0mrun\u001b[0m\u001b[0;34m(\u001b[0m\u001b[0;34m[\u001b[0m\u001b[0moutput_name\u001b[0m\u001b[0;34m]\u001b[0m\u001b[0;34m,\u001b[0m \u001b[0;34m{\u001b[0m\u001b[0minput_name\u001b[0m\u001b[0;34m:\u001b[0m \u001b[0msample_df\u001b[0m\u001b[0;34m}\u001b[0m\u001b[0;34m)\u001b[0m\u001b[0;34m\u001b[0m\u001b[0;34m\u001b[0m\u001b[0m\n\u001b[0m\u001b[1;32m     29\u001b[0m \u001b[0;34m\u001b[0m\u001b[0m\n\u001b[1;32m     30\u001b[0m \u001b[0;31m# Print the prediction\u001b[0m\u001b[0;34m\u001b[0m\u001b[0;34m\u001b[0m\u001b[0m\n",
            "\u001b[0;32m/usr/local/lib/python3.10/dist-packages/onnxruntime/capi/onnxruntime_inference_collection.py\u001b[0m in \u001b[0;36mrun\u001b[0;34m(self, output_names, input_feed, run_options)\u001b[0m\n\u001b[1;32m    218\u001b[0m             \u001b[0moutput_names\u001b[0m \u001b[0;34m=\u001b[0m \u001b[0;34m[\u001b[0m\u001b[0moutput\u001b[0m\u001b[0;34m.\u001b[0m\u001b[0mname\u001b[0m \u001b[0;32mfor\u001b[0m \u001b[0moutput\u001b[0m \u001b[0;32min\u001b[0m \u001b[0mself\u001b[0m\u001b[0;34m.\u001b[0m\u001b[0m_outputs_meta\u001b[0m\u001b[0;34m]\u001b[0m\u001b[0;34m\u001b[0m\u001b[0;34m\u001b[0m\u001b[0m\n\u001b[1;32m    219\u001b[0m         \u001b[0;32mtry\u001b[0m\u001b[0;34m:\u001b[0m\u001b[0;34m\u001b[0m\u001b[0;34m\u001b[0m\u001b[0m\n\u001b[0;32m--> 220\u001b[0;31m             \u001b[0;32mreturn\u001b[0m \u001b[0mself\u001b[0m\u001b[0;34m.\u001b[0m\u001b[0m_sess\u001b[0m\u001b[0;34m.\u001b[0m\u001b[0mrun\u001b[0m\u001b[0;34m(\u001b[0m\u001b[0moutput_names\u001b[0m\u001b[0;34m,\u001b[0m \u001b[0minput_feed\u001b[0m\u001b[0;34m,\u001b[0m \u001b[0mrun_options\u001b[0m\u001b[0;34m)\u001b[0m\u001b[0;34m\u001b[0m\u001b[0;34m\u001b[0m\u001b[0m\n\u001b[0m\u001b[1;32m    221\u001b[0m         \u001b[0;32mexcept\u001b[0m \u001b[0mC\u001b[0m\u001b[0;34m.\u001b[0m\u001b[0mEPFail\u001b[0m \u001b[0;32mas\u001b[0m \u001b[0merr\u001b[0m\u001b[0;34m:\u001b[0m\u001b[0;34m\u001b[0m\u001b[0;34m\u001b[0m\u001b[0m\n\u001b[1;32m    222\u001b[0m             \u001b[0;32mif\u001b[0m \u001b[0mself\u001b[0m\u001b[0;34m.\u001b[0m\u001b[0m_enable_fallback\u001b[0m\u001b[0;34m:\u001b[0m\u001b[0;34m\u001b[0m\u001b[0;34m\u001b[0m\u001b[0m\n",
            "\u001b[0;31mRuntimeError\u001b[0m: Input must be a list of dictionaries or a single numpy array for input 'dense_3_input'."
          ]
        }
      ]
    },
    {
      "cell_type": "code",
      "source": [
        "sample_data = {\n",
        "    'Location_Type': 'Indoor',\n",
        "    'Environment': 'Traffic',\n",
        "    'Age': '30',\n",
        "    'Gender': 'Male',\n",
        "    'Hearing_Protection_Used': 'No',\n",
        "    'Hearing_Sensitivity': 'Severe',\n",
        "    'Health_Issues': 'Diabetes',\n",
        "    'Noise_Level_dB': 76,\n",
        "    'Duration_Minutes': 6\n",
        "}\n",
        "\n",
        "# Convert the sample data to a DataFrame\n",
        "sd = pd.DataFrame([sample_data])\n",
        "providers = ['CPUExecutionProvider']\n",
        "m = rt.InferenceSession(output_path, providers=providers)\n",
        "onnx_pred = m.run(output_names, {\"input\": sd})\n",
        "\n",
        "print('ONNX Predicted:', onnx_pred[0][0])\n",
        "\n",
        "# make sure ONNX and keras have the same results\n",
        "# np.testing.assert_allclose(preds, onnx_pred[0], rtol=1e-5)"
      ],
      "metadata": {
        "colab": {
          "base_uri": "https://localhost:8080/",
          "height": 442
        },
        "id": "Tel64mIYOaD-",
        "outputId": "f4c47daa-2fb9-4835-bac9-4e6942bc818a"
      },
      "execution_count": null,
      "outputs": [
        {
          "output_type": "error",
          "ename": "ValueError",
          "evalue": "Required inputs (['dense_3_input']) are missing from input feed (['input']).",
          "traceback": [
            "\u001b[0;31m---------------------------------------------------------------------------\u001b[0m",
            "\u001b[0;31mValueError\u001b[0m                                Traceback (most recent call last)",
            "\u001b[0;32m<ipython-input-30-8c0e7090f68d>\u001b[0m in \u001b[0;36m<cell line: 17>\u001b[0;34m()\u001b[0m\n\u001b[1;32m     15\u001b[0m \u001b[0mproviders\u001b[0m \u001b[0;34m=\u001b[0m \u001b[0;34m[\u001b[0m\u001b[0;34m'CPUExecutionProvider'\u001b[0m\u001b[0;34m]\u001b[0m\u001b[0;34m\u001b[0m\u001b[0;34m\u001b[0m\u001b[0m\n\u001b[1;32m     16\u001b[0m \u001b[0mm\u001b[0m \u001b[0;34m=\u001b[0m \u001b[0mrt\u001b[0m\u001b[0;34m.\u001b[0m\u001b[0mInferenceSession\u001b[0m\u001b[0;34m(\u001b[0m\u001b[0moutput_path\u001b[0m\u001b[0;34m,\u001b[0m \u001b[0mproviders\u001b[0m\u001b[0;34m=\u001b[0m\u001b[0mproviders\u001b[0m\u001b[0;34m)\u001b[0m\u001b[0;34m\u001b[0m\u001b[0;34m\u001b[0m\u001b[0m\n\u001b[0;32m---> 17\u001b[0;31m \u001b[0monnx_pred\u001b[0m \u001b[0;34m=\u001b[0m \u001b[0mm\u001b[0m\u001b[0;34m.\u001b[0m\u001b[0mrun\u001b[0m\u001b[0;34m(\u001b[0m\u001b[0moutput_names\u001b[0m\u001b[0;34m,\u001b[0m \u001b[0;34m{\u001b[0m\u001b[0;34m\"input\"\u001b[0m\u001b[0;34m:\u001b[0m \u001b[0msd\u001b[0m\u001b[0;34m}\u001b[0m\u001b[0;34m)\u001b[0m\u001b[0;34m\u001b[0m\u001b[0;34m\u001b[0m\u001b[0m\n\u001b[0m\u001b[1;32m     18\u001b[0m \u001b[0;34m\u001b[0m\u001b[0m\n\u001b[1;32m     19\u001b[0m \u001b[0mprint\u001b[0m\u001b[0;34m(\u001b[0m\u001b[0;34m'ONNX Predicted:'\u001b[0m\u001b[0;34m,\u001b[0m \u001b[0monnx_pred\u001b[0m\u001b[0;34m[\u001b[0m\u001b[0;36m0\u001b[0m\u001b[0;34m]\u001b[0m\u001b[0;34m[\u001b[0m\u001b[0;36m0\u001b[0m\u001b[0;34m]\u001b[0m\u001b[0;34m)\u001b[0m\u001b[0;34m\u001b[0m\u001b[0;34m\u001b[0m\u001b[0m\n",
            "\u001b[0;32m/usr/local/lib/python3.10/dist-packages/onnxruntime/capi/onnxruntime_inference_collection.py\u001b[0m in \u001b[0;36mrun\u001b[0;34m(self, output_names, input_feed, run_options)\u001b[0m\n\u001b[1;32m    214\u001b[0m             \u001b[0msess\u001b[0m\u001b[0;34m.\u001b[0m\u001b[0mrun\u001b[0m\u001b[0;34m(\u001b[0m\u001b[0;34m[\u001b[0m\u001b[0moutput_name\u001b[0m\u001b[0;34m]\u001b[0m\u001b[0;34m,\u001b[0m \u001b[0;34m{\u001b[0m\u001b[0minput_name\u001b[0m\u001b[0;34m:\u001b[0m \u001b[0mx\u001b[0m\u001b[0;34m}\u001b[0m\u001b[0;34m)\u001b[0m\u001b[0;34m\u001b[0m\u001b[0;34m\u001b[0m\u001b[0m\n\u001b[1;32m    215\u001b[0m         \"\"\"\n\u001b[0;32m--> 216\u001b[0;31m         \u001b[0mself\u001b[0m\u001b[0;34m.\u001b[0m\u001b[0m_validate_input\u001b[0m\u001b[0;34m(\u001b[0m\u001b[0mlist\u001b[0m\u001b[0;34m(\u001b[0m\u001b[0minput_feed\u001b[0m\u001b[0;34m.\u001b[0m\u001b[0mkeys\u001b[0m\u001b[0;34m(\u001b[0m\u001b[0;34m)\u001b[0m\u001b[0;34m)\u001b[0m\u001b[0;34m)\u001b[0m\u001b[0;34m\u001b[0m\u001b[0;34m\u001b[0m\u001b[0m\n\u001b[0m\u001b[1;32m    217\u001b[0m         \u001b[0;32mif\u001b[0m \u001b[0;32mnot\u001b[0m \u001b[0moutput_names\u001b[0m\u001b[0;34m:\u001b[0m\u001b[0;34m\u001b[0m\u001b[0;34m\u001b[0m\u001b[0m\n\u001b[1;32m    218\u001b[0m             \u001b[0moutput_names\u001b[0m \u001b[0;34m=\u001b[0m \u001b[0;34m[\u001b[0m\u001b[0moutput\u001b[0m\u001b[0;34m.\u001b[0m\u001b[0mname\u001b[0m \u001b[0;32mfor\u001b[0m \u001b[0moutput\u001b[0m \u001b[0;32min\u001b[0m \u001b[0mself\u001b[0m\u001b[0;34m.\u001b[0m\u001b[0m_outputs_meta\u001b[0m\u001b[0;34m]\u001b[0m\u001b[0;34m\u001b[0m\u001b[0;34m\u001b[0m\u001b[0m\n",
            "\u001b[0;32m/usr/local/lib/python3.10/dist-packages/onnxruntime/capi/onnxruntime_inference_collection.py\u001b[0m in \u001b[0;36m_validate_input\u001b[0;34m(self, feed_input_names)\u001b[0m\n\u001b[1;32m    196\u001b[0m                 \u001b[0mmissing_input_names\u001b[0m\u001b[0;34m.\u001b[0m\u001b[0mappend\u001b[0m\u001b[0;34m(\u001b[0m\u001b[0minput\u001b[0m\u001b[0;34m.\u001b[0m\u001b[0mname\u001b[0m\u001b[0;34m)\u001b[0m\u001b[0;34m\u001b[0m\u001b[0;34m\u001b[0m\u001b[0m\n\u001b[1;32m    197\u001b[0m         \u001b[0;32mif\u001b[0m \u001b[0mmissing_input_names\u001b[0m\u001b[0;34m:\u001b[0m\u001b[0;34m\u001b[0m\u001b[0;34m\u001b[0m\u001b[0m\n\u001b[0;32m--> 198\u001b[0;31m             raise ValueError(\n\u001b[0m\u001b[1;32m    199\u001b[0m                 \u001b[0;34mf\"Required inputs ({missing_input_names}) are missing from input feed ({feed_input_names}).\"\u001b[0m\u001b[0;34m\u001b[0m\u001b[0;34m\u001b[0m\u001b[0m\n\u001b[1;32m    200\u001b[0m             )\n",
            "\u001b[0;31mValueError\u001b[0m: Required inputs (['dense_3_input']) are missing from input feed (['input'])."
          ]
        }
      ]
    },
    {
      "cell_type": "markdown",
      "source": [
        "# New Section"
      ],
      "metadata": {
        "id": "iuQuIlIqmhfs"
      }
    },
    {
      "cell_type": "code",
      "source": [
        "# Save the entire model to a HDF5 file\n",
        "model.save(\"my_model.h5\")\n"
      ],
      "metadata": {
        "colab": {
          "base_uri": "https://localhost:8080/"
        },
        "id": "Cil_qQe6ts0u",
        "outputId": "8449a0ec-1ec1-4b76-a695-4b76c79a80bb"
      },
      "execution_count": null,
      "outputs": [
        {
          "output_type": "stream",
          "name": "stderr",
          "text": [
            "/usr/local/lib/python3.10/dist-packages/keras/src/engine/training.py:3103: UserWarning: You are saving your model as an HDF5 file via `model.save()`. This file format is considered legacy. We recommend using instead the native Keras format, e.g. `model.save('my_model.keras')`.\n",
            "  saving_api.save_model(\n"
          ]
        }
      ]
    },
    {
      "cell_type": "code",
      "source": [
        "import joblib\n",
        "\n",
        "# Save the preprocessor\n",
        "joblib.dump(preprocessor, 'preprocessor.pkl')\n"
      ],
      "metadata": {
        "id": "fn3Z1IJMuFoh",
        "colab": {
          "base_uri": "https://localhost:8080/"
        },
        "outputId": "4e5c36b7-1889-46c4-ef55-f51410e4fcfe"
      },
      "execution_count": null,
      "outputs": [
        {
          "output_type": "execute_result",
          "data": {
            "text/plain": [
              "['preprocessor.pkl']"
            ]
          },
          "metadata": {},
          "execution_count": 18
        }
      ]
    },
    {
      "cell_type": "code",
      "source": [
        "import tensorflow as tf\n",
        "import pandas as pd\n",
        "import joblib\n",
        "\n",
        "# Load the saved model\n",
        "loaded_model = tf.keras.models.load_model(\"my_model.h5\")\n",
        "\n",
        "# Load the preprocessor\n",
        "loaded_preprocessor = joblib.load('preprocessor.pkl')\n",
        "\n",
        "sample_data = {\n",
        "    'Location_Type': 'Indoor',\n",
        "    'Environment': 'Traffic',\n",
        "    'Age': '30',\n",
        "    'Gender': 'Male',\n",
        "    'Hearing_Protection_Used': 'No',\n",
        "    'Hearing_Sensitivity': 'Severe',\n",
        "    'Health_Issues': 'Diabetes',\n",
        "    'Noise_Level_dB': 76,\n",
        "    'Duration_Minutes': 6\n",
        "}\n",
        "\n",
        "# Convert the sample data to a DataFrame\n",
        "sample_df = pd.DataFrame([sample_data])\n",
        "\n",
        "# Preprocess the sample data using the loaded preprocessor\n",
        "sample_df_processed = loaded_preprocessor.transform(sample_df)\n",
        "\n",
        "# Make prediction\n",
        "prediction = loaded_model.predict(sample_df_processed)[0]\n",
        "\n",
        "# The prediction will be a probability between 0 and 1.\n",
        "# You can interpret it as the likelihood of hearing damage risk.\n",
        "print(prediction)\n"
      ],
      "metadata": {
        "colab": {
          "base_uri": "https://localhost:8080/"
        },
        "id": "Urd0QqPfv78S",
        "outputId": "935d1289-46d2-437f-a4eb-a61f4452b04c"
      },
      "execution_count": null,
      "outputs": [
        {
          "output_type": "stream",
          "name": "stderr",
          "text": [
            "WARNING:tensorflow:5 out of the last 11 calls to <function Model.make_predict_function.<locals>.predict_function at 0x7cc5d0eff760> triggered tf.function retracing. Tracing is expensive and the excessive number of tracings could be due to (1) creating @tf.function repeatedly in a loop, (2) passing tensors with different shapes, (3) passing Python objects instead of tensors. For (1), please define your @tf.function outside of the loop. For (2), @tf.function has reduce_retracing=True option that can avoid unnecessary retracing. For (3), please refer to https://www.tensorflow.org/guide/function#controlling_retracing and https://www.tensorflow.org/api_docs/python/tf/function for  more details.\n"
          ]
        },
        {
          "output_type": "stream",
          "name": "stdout",
          "text": [
            "1/1 [==============================] - 0s 64ms/step\n",
            "[5.537884e-23]\n"
          ]
        }
      ]
    },
    {
      "cell_type": "code",
      "source": [
        "import pandas as pd\n",
        "sample_data = {\n",
        "    'Location_Type': 'Indoor',\n",
        "    'Environment': 'Traffic',\n",
        "    'Age': '30',\n",
        "    'Gender': 'Male',\n",
        "    'Hearing_Protection_Used': 'Yes',\n",
        "    'Hearing_Sensitivity': 'Normal',\n",
        "    'Health_Issues': 'Healthy',\n",
        "    'Noise_Level_dB': 94,\n",
        "    'Duration_Minutes': 480\n",
        "}\n",
        "\n",
        "# Convert the sample data to a DataFrame\n",
        "sample_df = pd.DataFrame([sample_data])\n",
        "\n",
        "# Preprocess the sample data\n",
        "sample_transformed = preprocessor.transform(sample_df)\n",
        "\n",
        "# Make a prediction\n",
        "prediction = model.predict(sample_transformed)[0]\n",
        "\n",
        "print(prediction[0])\n"
      ],
      "metadata": {
        "colab": {
          "base_uri": "https://localhost:8080/"
        },
        "id": "60e2rq9h012I",
        "outputId": "a2db118c-1be2-4e3d-b85d-c129674487a9"
      },
      "execution_count": null,
      "outputs": [
        {
          "output_type": "stream",
          "name": "stdout",
          "text": [
            "1/1 [==============================] - 0s 25ms/step\n",
            "2.6889239e-27\n"
          ]
        }
      ]
    }
  ],
  "metadata": {
    "colab": {
      "provenance": [],
      "gpuType": "T4",
      "include_colab_link": true
    },
    "kernelspec": {
      "display_name": "Python 3",
      "name": "python3"
    },
    "language_info": {
      "name": "python"
    }
  },
  "nbformat": 4,
  "nbformat_minor": 0
}